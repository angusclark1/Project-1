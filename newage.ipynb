{
 "cells": [
  {
   "cell_type": "code",
   "execution_count": 1,
   "id": "98aaae23-d77b-438d-a0d2-2d8ff687a902",
   "metadata": {},
   "outputs": [],
   "source": [
    "import yfinance as yf\n",
    "import pandas as pd"
   ]
  },
  {
   "cell_type": "code",
   "execution_count": 2,
   "id": "36a3a8cd-61ef-4f04-932d-68e03414d9ff",
   "metadata": {},
   "outputs": [],
   "source": [
    "BTC = yf.Ticker(\"BTC-USD\")"
   ]
  },
  {
   "cell_type": "code",
   "execution_count": 3,
   "id": "e8433e62-dd20-47ec-beb1-c973c8546407",
   "metadata": {},
   "outputs": [],
   "source": [
    "btc_hist = BTC.history(period=\"5y\")"
   ]
  },
  {
   "cell_type": "code",
   "execution_count": 4,
   "id": "38f133d7-8280-49f8-b928-f8c627a7e5b4",
   "metadata": {},
   "outputs": [
    {
     "name": "stdout",
     "output_type": "stream",
     "text": [
      "                    Open          High           Low         Close  \\\n",
      "Date                                                                 \n",
      "2017-07-04   2561.000000   2631.590088   2559.350098   2601.639893   \n",
      "2017-07-05   2602.870117   2622.649902   2538.550049   2601.989990   \n",
      "2017-07-06   2608.100098   2616.719971   2581.689941   2608.560059   \n",
      "2017-07-07   2608.590088   2916.139893   2498.870117   2518.659912   \n",
      "2017-07-08   2520.270020   2571.340088   2492.310059   2571.340088   \n",
      "...                  ...           ...           ...           ...   \n",
      "2022-06-30  20108.312500  20141.160156  18729.656250  19784.726562   \n",
      "2022-07-01  19820.470703  20632.671875  19073.708984  19269.367188   \n",
      "2022-07-02  19274.835938  19371.748047  19027.082031  19242.255859   \n",
      "2022-07-03  19242.095703  19558.269531  18966.951172  19297.076172   \n",
      "2022-07-04  19292.843750  19307.146484  19063.066406  19109.779297   \n",
      "\n",
      "                 Volume  Dividends  Stock Splits  \n",
      "Date                                              \n",
      "2017-07-04    985516032          0             0  \n",
      "2017-07-05    941566016          0             0  \n",
      "2017-07-06    761956992          0             0  \n",
      "2017-07-07    917411968          0             0  \n",
      "2017-07-08    733329984          0             0  \n",
      "...                 ...        ...           ...  \n",
      "2022-06-30  26267239923          0             0  \n",
      "2022-07-01  30767551159          0             0  \n",
      "2022-07-02  18100418740          0             0  \n",
      "2022-07-03  16390821947          0             0  \n",
      "2022-07-04  15371395072          0             0  \n",
      "\n",
      "[1827 rows x 7 columns]\n"
     ]
    }
   ],
   "source": [
    "print(btc_hist)"
   ]
  },
  {
   "cell_type": "code",
   "execution_count": 5,
   "id": "f8a5a831-2a49-4f78-98ed-ec24c6970a60",
   "metadata": {},
   "outputs": [],
   "source": [
    "btc_df = pd.DataFrame(btc_hist)\n",
    "btc_df.head()\n",
    "btc_df = btc_df.drop(columns=[\"High\",\"Low\",\"Volume\",\"Dividends\",\"Stock Splits\"])\n",
    "btc_df.head()\n",
    "btc_df.to_csv('btc_df.csv')"
   ]
  },
  {
   "cell_type": "code",
   "execution_count": 6,
   "id": "153a7625-e04d-4b78-8594-ee1b0f13e447",
   "metadata": {},
   "outputs": [
    {
     "data": {
      "text/html": [
       "<div>\n",
       "<style scoped>\n",
       "    .dataframe tbody tr th:only-of-type {\n",
       "        vertical-align: middle;\n",
       "    }\n",
       "\n",
       "    .dataframe tbody tr th {\n",
       "        vertical-align: top;\n",
       "    }\n",
       "\n",
       "    .dataframe thead th {\n",
       "        text-align: right;\n",
       "    }\n",
       "</style>\n",
       "<table border=\"1\" class=\"dataframe\">\n",
       "  <thead>\n",
       "    <tr style=\"text-align: right;\">\n",
       "      <th></th>\n",
       "      <th>Open</th>\n",
       "      <th>Close</th>\n",
       "      <th>Ticker</th>\n",
       "    </tr>\n",
       "    <tr>\n",
       "      <th>Date</th>\n",
       "      <th></th>\n",
       "      <th></th>\n",
       "      <th></th>\n",
       "    </tr>\n",
       "  </thead>\n",
       "  <tbody>\n",
       "    <tr>\n",
       "      <th>2017-07-04</th>\n",
       "      <td>2561.000000</td>\n",
       "      <td>2601.639893</td>\n",
       "      <td>BTC</td>\n",
       "    </tr>\n",
       "    <tr>\n",
       "      <th>2017-07-05</th>\n",
       "      <td>2602.870117</td>\n",
       "      <td>2601.989990</td>\n",
       "      <td>BTC</td>\n",
       "    </tr>\n",
       "    <tr>\n",
       "      <th>2017-07-06</th>\n",
       "      <td>2608.100098</td>\n",
       "      <td>2608.560059</td>\n",
       "      <td>BTC</td>\n",
       "    </tr>\n",
       "    <tr>\n",
       "      <th>2017-07-07</th>\n",
       "      <td>2608.590088</td>\n",
       "      <td>2518.659912</td>\n",
       "      <td>BTC</td>\n",
       "    </tr>\n",
       "    <tr>\n",
       "      <th>2017-07-08</th>\n",
       "      <td>2520.270020</td>\n",
       "      <td>2571.340088</td>\n",
       "      <td>BTC</td>\n",
       "    </tr>\n",
       "    <tr>\n",
       "      <th>...</th>\n",
       "      <td>...</td>\n",
       "      <td>...</td>\n",
       "      <td>...</td>\n",
       "    </tr>\n",
       "    <tr>\n",
       "      <th>2022-06-30</th>\n",
       "      <td>20108.312500</td>\n",
       "      <td>19784.726562</td>\n",
       "      <td>BTC</td>\n",
       "    </tr>\n",
       "    <tr>\n",
       "      <th>2022-07-01</th>\n",
       "      <td>19820.470703</td>\n",
       "      <td>19269.367188</td>\n",
       "      <td>BTC</td>\n",
       "    </tr>\n",
       "    <tr>\n",
       "      <th>2022-07-02</th>\n",
       "      <td>19274.835938</td>\n",
       "      <td>19242.255859</td>\n",
       "      <td>BTC</td>\n",
       "    </tr>\n",
       "    <tr>\n",
       "      <th>2022-07-03</th>\n",
       "      <td>19242.095703</td>\n",
       "      <td>19297.076172</td>\n",
       "      <td>BTC</td>\n",
       "    </tr>\n",
       "    <tr>\n",
       "      <th>2022-07-04</th>\n",
       "      <td>19292.843750</td>\n",
       "      <td>19109.779297</td>\n",
       "      <td>BTC</td>\n",
       "    </tr>\n",
       "  </tbody>\n",
       "</table>\n",
       "<p>1827 rows × 3 columns</p>\n",
       "</div>"
      ],
      "text/plain": [
       "                    Open         Close Ticker\n",
       "Date                                         \n",
       "2017-07-04   2561.000000   2601.639893    BTC\n",
       "2017-07-05   2602.870117   2601.989990    BTC\n",
       "2017-07-06   2608.100098   2608.560059    BTC\n",
       "2017-07-07   2608.590088   2518.659912    BTC\n",
       "2017-07-08   2520.270020   2571.340088    BTC\n",
       "...                  ...           ...    ...\n",
       "2022-06-30  20108.312500  19784.726562    BTC\n",
       "2022-07-01  19820.470703  19269.367188    BTC\n",
       "2022-07-02  19274.835938  19242.255859    BTC\n",
       "2022-07-03  19242.095703  19297.076172    BTC\n",
       "2022-07-04  19292.843750  19109.779297    BTC\n",
       "\n",
       "[1827 rows x 3 columns]"
      ]
     },
     "execution_count": 6,
     "metadata": {},
     "output_type": "execute_result"
    }
   ],
   "source": [
    "btc_df[\"Ticker\"] = \"BTC\"\n",
    "btc_df"
   ]
  },
  {
   "cell_type": "code",
   "execution_count": 7,
   "id": "ff328ea9-f3dc-4d8d-8c50-a5c9dcf8e783",
   "metadata": {},
   "outputs": [],
   "source": [
    "USDT = yf.Ticker(\"USDT-USD\")"
   ]
  },
  {
   "cell_type": "code",
   "execution_count": 8,
   "id": "2c8f679a-2f7b-4aa2-984e-c4fc637d913e",
   "metadata": {},
   "outputs": [],
   "source": [
    "usdt_hist = USDT.history(period=\"5y\")"
   ]
  },
  {
   "cell_type": "code",
   "execution_count": 9,
   "id": "ab7c6022-d45d-4dd5-a14b-8e4caf853132",
   "metadata": {},
   "outputs": [
    {
     "name": "stdout",
     "output_type": "stream",
     "text": [
      "                Open      High       Low     Close       Volume  Dividends  \\\n",
      "Date                                                                         \n",
      "2017-11-09  1.010870  1.013270  0.996515  1.008180    358188000          0   \n",
      "2017-11-10  1.006500  1.024230  0.995486  1.006010    756446016          0   \n",
      "2017-11-11  1.005980  1.026210  0.995799  1.008990    746227968          0   \n",
      "2017-11-12  1.006020  1.105910  0.967601  1.012470   1466060032          0   \n",
      "2017-11-13  1.004480  1.029290  0.975103  1.009350    767884032          0   \n",
      "...              ...       ...       ...       ...          ...        ...   \n",
      "2022-06-30  0.998888  0.999093  0.998762  0.998819  45578518327          0   \n",
      "2022-07-01  0.998860  0.999137  0.998705  0.998867  49683415220          0   \n",
      "2022-07-02  0.998855  0.999119  0.998827  0.998960  31666712588          0   \n",
      "2022-07-03  0.998953  0.999128  0.998891  0.999078  27890770459          0   \n",
      "2022-07-04  0.999066  0.999136  0.998994  0.999052  27145549824          0   \n",
      "\n",
      "            Stock Splits  \n",
      "Date                      \n",
      "2017-11-09             0  \n",
      "2017-11-10             0  \n",
      "2017-11-11             0  \n",
      "2017-11-12             0  \n",
      "2017-11-13             0  \n",
      "...                  ...  \n",
      "2022-06-30             0  \n",
      "2022-07-01             0  \n",
      "2022-07-02             0  \n",
      "2022-07-03             0  \n",
      "2022-07-04             0  \n",
      "\n",
      "[1699 rows x 7 columns]\n"
     ]
    }
   ],
   "source": [
    "print(usdt_hist)"
   ]
  },
  {
   "cell_type": "code",
   "execution_count": 10,
   "id": "02f08d11-185d-4adb-9a60-afe857e4d6cb",
   "metadata": {},
   "outputs": [],
   "source": [
    "usdt_df = pd.DataFrame(usdt_hist)\n",
    "usdt_df[\"Ticker\"] = \"USDT\"\n",
    "usdt_df\n",
    "usdt_df = usdt_df.drop(columns=[\"High\",\"Low\",\"Volume\",\"Dividends\",\"Stock Splits\"])\n",
    "usdt_df.head()\n",
    "usdt_df.to_csv('usdt_df.csv')"
   ]
  },
  {
   "cell_type": "code",
   "execution_count": 11,
   "id": "5dbd62ed-858c-48f3-bfc2-6fb7a240a9e3",
   "metadata": {},
   "outputs": [],
   "source": [
    "ETH = yf.Ticker(\"ETH-USD\")"
   ]
  },
  {
   "cell_type": "code",
   "execution_count": 12,
   "id": "cf2d530e-4276-4b55-927e-3d6b16a97467",
   "metadata": {},
   "outputs": [],
   "source": [
    "eth_hist = ETH.history(period=\"5y\")"
   ]
  },
  {
   "cell_type": "code",
   "execution_count": 13,
   "id": "1aa14e97-b936-4e57-9783-26e57a8a1e38",
   "metadata": {},
   "outputs": [
    {
     "name": "stdout",
     "output_type": "stream",
     "text": [
      "                   Open         High          Low        Close       Volume  \\\n",
      "Date                                                                          \n",
      "2017-11-09   308.644989   329.451996   307.056000   320.884003    893249984   \n",
      "2017-11-10   320.670990   324.717987   294.541992   299.252991    885985984   \n",
      "2017-11-11   298.585999   319.453003   298.191986   314.681000    842300992   \n",
      "2017-11-12   314.690002   319.153015   298.513000   307.907990   1613479936   \n",
      "2017-11-13   307.024994   328.415009   307.024994   316.716003   1041889984   \n",
      "...                 ...          ...          ...          ...          ...   \n",
      "2022-06-30  1099.353149  1103.690430  1009.094849  1067.298828  16350755497   \n",
      "2022-07-01  1068.316772  1100.223877  1040.150757  1059.767334  17499453625   \n",
      "2022-07-02  1060.121216  1073.052612  1033.962158  1066.512817   9935603640   \n",
      "2022-07-03  1066.467407  1083.418945  1044.005615  1073.766968   8557248150   \n",
      "2022-07-04  1073.171631  1073.768188  1048.483032  1051.470825   8122622976   \n",
      "\n",
      "            Dividends  Stock Splits  \n",
      "Date                                 \n",
      "2017-11-09          0             0  \n",
      "2017-11-10          0             0  \n",
      "2017-11-11          0             0  \n",
      "2017-11-12          0             0  \n",
      "2017-11-13          0             0  \n",
      "...               ...           ...  \n",
      "2022-06-30          0             0  \n",
      "2022-07-01          0             0  \n",
      "2022-07-02          0             0  \n",
      "2022-07-03          0             0  \n",
      "2022-07-04          0             0  \n",
      "\n",
      "[1699 rows x 7 columns]\n"
     ]
    }
   ],
   "source": [
    "print(eth_hist)"
   ]
  },
  {
   "cell_type": "code",
   "execution_count": 14,
   "id": "1a06afbc-ef6a-499b-aa9d-8193c5a665f8",
   "metadata": {},
   "outputs": [],
   "source": [
    "eth_df = pd.DataFrame(eth_hist)\n",
    "eth_df[\"Ticker\"] = \"ETH\"\n",
    "eth_df.head()\n",
    "eth_df = eth_df.drop(columns=[\"High\",\"Low\",\"Volume\",\"Dividends\",\"Stock Splits\"])\n",
    "eth_df.head()\n",
    "eth_df.to_csv('eth_df.csv')"
   ]
  },
  {
   "cell_type": "code",
   "execution_count": 15,
   "id": "f8db187f-a252-4bf0-a40d-39e211802d04",
   "metadata": {},
   "outputs": [],
   "source": [
    "TSLA = yf.Ticker(\"TSLA\")"
   ]
  },
  {
   "cell_type": "code",
   "execution_count": 16,
   "id": "22fc2213-26ef-41cc-9b8b-85f2da62e1dd",
   "metadata": {},
   "outputs": [],
   "source": [
    "tsla_hist = TSLA.history(period=\"5y\")"
   ]
  },
  {
   "cell_type": "code",
   "execution_count": 17,
   "id": "4c020b9a-5dd9-4274-b1ab-155a6481de23",
   "metadata": {},
   "outputs": [
    {
     "name": "stdout",
     "output_type": "stream",
     "text": [
      "                  Open        High         Low       Close    Volume  \\\n",
      "Date                                                                   \n",
      "2017-07-03   74.047997   74.269997   70.300003   70.524002  31527000   \n",
      "2017-07-05   69.440002   69.447998   65.265999   65.417999  85233500   \n",
      "2017-07-06   63.452000   64.157997   61.259998   61.765999  96622500   \n",
      "2017-07-07   62.700001   63.400002   61.476002   62.644001  70884500   \n",
      "2017-07-10   62.580002   63.588001   60.625999   63.209999  69104500   \n",
      "...                ...         ...         ...         ...       ...   \n",
      "2022-06-27  748.099976  756.210022  727.700012  734.760010  29726100   \n",
      "2022-06-28  733.450012  749.909973  697.030029  697.989990  30130400   \n",
      "2022-06-29  691.500000  693.520020  666.820007  685.469971  27632400   \n",
      "2022-06-30  673.530029  688.369995  656.590027  673.419983  31533500   \n",
      "2022-07-01  681.000000  690.690002  666.359985  681.789978  24781500   \n",
      "\n",
      "            Dividends  Stock Splits  \n",
      "Date                                 \n",
      "2017-07-03          0           0.0  \n",
      "2017-07-05          0           0.0  \n",
      "2017-07-06          0           0.0  \n",
      "2017-07-07          0           0.0  \n",
      "2017-07-10          0           0.0  \n",
      "...               ...           ...  \n",
      "2022-06-27          0           0.0  \n",
      "2022-06-28          0           0.0  \n",
      "2022-06-29          0           0.0  \n",
      "2022-06-30          0           0.0  \n",
      "2022-07-01          0           0.0  \n",
      "\n",
      "[1259 rows x 7 columns]\n"
     ]
    }
   ],
   "source": [
    "print(tsla_hist)"
   ]
  },
  {
   "cell_type": "code",
   "execution_count": 18,
   "id": "81974f97-6360-4e64-a7bb-221e858c3ccf",
   "metadata": {},
   "outputs": [],
   "source": [
    "tsla_df = pd.DataFrame(tsla_hist)\n",
    "tsla_df[\"Ticker\"] = \"TSLA\"\n",
    "tsla_df.tail()\n",
    "tsla_df = tsla_df.drop(columns=[\"High\",\"Low\",\"Volume\",\"Dividends\",\"Stock Splits\"])\n",
    "tsla_df.head()\n",
    "tsla_df.to_csv('tsla_df.csv')"
   ]
  },
  {
   "cell_type": "code",
   "execution_count": 19,
   "id": "010b1319-46f4-40ac-8287-3fe42c6f27e3",
   "metadata": {},
   "outputs": [],
   "source": [
    "RIVN = yf.Ticker(\"RIVN\")"
   ]
  },
  {
   "cell_type": "code",
   "execution_count": 20,
   "id": "ce2857b5-67d0-4c45-bce2-c7b371f6f407",
   "metadata": {},
   "outputs": [],
   "source": [
    "rivn_hist = RIVN.history(period=\"5y\")"
   ]
  },
  {
   "cell_type": "code",
   "execution_count": 21,
   "id": "b2931dbc-e4f3-4e50-ae40-3dc556549b22",
   "metadata": {},
   "outputs": [
    {
     "name": "stdout",
     "output_type": "stream",
     "text": [
      "                  Open        High         Low       Close     Volume  \\\n",
      "Date                                                                    \n",
      "2021-11-10  106.750000  119.459999   95.199997  100.730003  103679500   \n",
      "2021-11-11  114.625000  125.000000  108.010002  122.989998   83668200   \n",
      "2021-11-12  128.645004  135.199997  125.250000  129.949997   50636800   \n",
      "2021-11-15  130.800003  152.529999  127.510002  149.360001   64982300   \n",
      "2021-11-16  163.800003  179.470001  153.779999  172.009995   94036600   \n",
      "...                ...         ...         ...         ...        ...   \n",
      "2022-06-27   29.570000   30.150000   28.010000   28.440001   11869900   \n",
      "2022-06-28   28.110001   28.815001   26.861000   26.990000   14406600   \n",
      "2022-06-29   26.530001   26.980000   25.660000   26.270000   10857700   \n",
      "2022-06-30   25.930000   26.430000   24.830000   25.740000   11633000   \n",
      "2022-07-01   25.910000   26.780001   25.295000   25.700001    8525300   \n",
      "\n",
      "            Dividends  Stock Splits  \n",
      "Date                                 \n",
      "2021-11-10          0             0  \n",
      "2021-11-11          0             0  \n",
      "2021-11-12          0             0  \n",
      "2021-11-15          0             0  \n",
      "2021-11-16          0             0  \n",
      "...               ...           ...  \n",
      "2022-06-27          0             0  \n",
      "2022-06-28          0             0  \n",
      "2022-06-29          0             0  \n",
      "2022-06-30          0             0  \n",
      "2022-07-01          0             0  \n",
      "\n",
      "[161 rows x 7 columns]\n"
     ]
    }
   ],
   "source": [
    "print(rivn_hist)"
   ]
  },
  {
   "cell_type": "code",
   "execution_count": 22,
   "id": "b50ae646-14c0-47ba-aeca-5ca2d1d7f0d1",
   "metadata": {},
   "outputs": [],
   "source": [
    "rivn_df = pd.DataFrame(rivn_hist)\n",
    "rivn_df[\"Ticker\"] = \"RIVN\"\n",
    "rivn_df.head()\n",
    "rivn_df = rivn_df.drop(columns=[\"High\",\"Low\",\"Volume\",\"Dividends\",\"Stock Splits\"])\n",
    "rivn_df.head()\n",
    "rivn_df.to_csv('rivn_df.csv')"
   ]
  },
  {
   "cell_type": "code",
   "execution_count": 23,
   "id": "3900ad07-8fbb-41fb-9cac-f7c25c1a2755",
   "metadata": {},
   "outputs": [],
   "source": [
    "first_column = rivn_df.pop(\"Ticker\")\n",
    "rivn_df.insert(0, \"Ticker\", first_column)"
   ]
  },
  {
   "cell_type": "code",
   "execution_count": null,
   "id": "e138d307-de33-4a75-af3c-d0d767d2b82d",
   "metadata": {},
   "outputs": [],
   "source": []
  }
 ],
 "metadata": {
  "kernelspec": {
   "display_name": "Python 3 (ipykernel)",
   "language": "python",
   "name": "python3"
  },
  "language_info": {
   "codemirror_mode": {
    "name": "ipython",
    "version": 3
   },
   "file_extension": ".py",
   "mimetype": "text/x-python",
   "name": "python",
   "nbconvert_exporter": "python",
   "pygments_lexer": "ipython3",
   "version": "3.7.11"
  }
 },
 "nbformat": 4,
 "nbformat_minor": 5
}
