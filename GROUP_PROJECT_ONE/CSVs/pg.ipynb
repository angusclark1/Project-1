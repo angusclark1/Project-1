{
 "cells": [
  {
   "cell_type": "code",
   "execution_count": 98,
   "id": "f294e2d4-5529-43e6-8daf-931d03f718b9",
   "metadata": {},
   "outputs": [],
   "source": [
    "import yfinance as yf\n",
    "from datetime import datetime\n",
    "import os\n",
    "import pandas as pd\n"
   ]
  },
  {
   "cell_type": "code",
   "execution_count": 101,
   "id": "ffc9b4c4-d4e7-4135-b15f-a4baea59b689",
   "metadata": {},
   "outputs": [
    {
     "name": "stdout",
     "output_type": "stream",
     "text": [
      "                  Open        High         Low       Close   Volume  \\\n",
      "Date                                                                  \n",
      "2017-07-03   76.143748   76.666473   75.952081   76.439957  3607400   \n",
      "2017-07-05   76.544515   76.666483   76.222164   76.378983  4974300   \n",
      "2017-07-06   76.361552   76.622911   76.108901   76.117615  6038900   \n",
      "2017-07-07   76.396406   76.509661   76.039207   76.361557  5142200   \n",
      "2017-07-10   76.344119   76.553214   75.699426   75.873665  5356400   \n",
      "...                ...         ...         ...         ...      ...   \n",
      "2022-06-27  144.119995  144.759995  142.710007  143.250000  5618500   \n",
      "2022-06-28  143.539993  144.089996  140.580002  140.919998  6077300   \n",
      "2022-06-29  141.600006  142.860001  141.149994  142.199997  5174600   \n",
      "2022-06-30  141.690002  144.440002  141.229996  143.789993  7410100   \n",
      "2022-07-01  144.240005  146.250000  143.399994  146.110001  5937200   \n",
      "\n",
      "            Dividends  Stock Splits  \n",
      "Date                                 \n",
      "2017-07-03        0.0             0  \n",
      "2017-07-05        0.0             0  \n",
      "2017-07-06        0.0             0  \n",
      "2017-07-07        0.0             0  \n",
      "2017-07-10        0.0             0  \n",
      "...               ...           ...  \n",
      "2022-06-27        0.0             0  \n",
      "2022-06-28        0.0             0  \n",
      "2022-06-29        0.0             0  \n",
      "2022-06-30        0.0             0  \n",
      "2022-07-01        0.0             0  \n",
      "\n",
      "[1259 rows x 7 columns]\n",
      "                  Open        High         Low       Close   Volume  \\\n",
      "Date                                                                  \n",
      "2017-07-03   76.143748   76.666473   75.952081   76.439957  3607400   \n",
      "2017-07-05   76.544515   76.666483   76.222164   76.378983  4974300   \n",
      "2017-07-06   76.361552   76.622911   76.108901   76.117615  6038900   \n",
      "2017-07-07   76.396406   76.509661   76.039207   76.361557  5142200   \n",
      "2017-07-10   76.344119   76.553214   75.699426   75.873665  5356400   \n",
      "...                ...         ...         ...         ...      ...   \n",
      "2022-06-27  144.119995  144.759995  142.710007  143.250000  5618500   \n",
      "2022-06-28  143.539993  144.089996  140.580002  140.919998  6077300   \n",
      "2022-06-29  141.600006  142.860001  141.149994  142.199997  5174600   \n",
      "2022-06-30  141.690002  144.440002  141.229996  143.789993  7410100   \n",
      "2022-07-01  144.240005  146.250000  143.399994  146.110001  5937200   \n",
      "\n",
      "            Dividends  Stock Splits  \n",
      "Date                                 \n",
      "2017-07-03        0.0             0  \n",
      "2017-07-05        0.0             0  \n",
      "2017-07-06        0.0             0  \n",
      "2017-07-07        0.0             0  \n",
      "2017-07-10        0.0             0  \n",
      "...               ...           ...  \n",
      "2022-06-27        0.0             0  \n",
      "2022-06-28        0.0             0  \n",
      "2022-06-29        0.0             0  \n",
      "2022-06-30        0.0             0  \n",
      "2022-07-01        0.0             0  \n",
      "\n",
      "[1259 rows x 7 columns]\n"
     ]
    }
   ],
   "source": [
    "pg = yf.Ticker(\"pg\")\n",
    "hist_pg = pg.history(period=\"5y\")\n",
    "print(hist_pg)\n",
    "df_pg = pd.DataFrame(hist_pg)\n",
    "print(df_pg)"
   ]
  },
  {
   "cell_type": "code",
   "execution_count": 102,
   "id": "177f3396-16c0-452f-b32f-8b763b6fe299",
   "metadata": {},
   "outputs": [
    {
     "data": {
      "text/html": [
       "<div>\n",
       "<style scoped>\n",
       "    .dataframe tbody tr th:only-of-type {\n",
       "        vertical-align: middle;\n",
       "    }\n",
       "\n",
       "    .dataframe tbody tr th {\n",
       "        vertical-align: top;\n",
       "    }\n",
       "\n",
       "    .dataframe thead th {\n",
       "        text-align: right;\n",
       "    }\n",
       "</style>\n",
       "<table border=\"1\" class=\"dataframe\">\n",
       "  <thead>\n",
       "    <tr style=\"text-align: right;\">\n",
       "      <th></th>\n",
       "      <th>Open</th>\n",
       "      <th>Close</th>\n",
       "      <th>Ticker</th>\n",
       "    </tr>\n",
       "    <tr>\n",
       "      <th>Date</th>\n",
       "      <th></th>\n",
       "      <th></th>\n",
       "      <th></th>\n",
       "    </tr>\n",
       "  </thead>\n",
       "  <tbody>\n",
       "    <tr>\n",
       "      <th>2017-07-03</th>\n",
       "      <td>76.143748</td>\n",
       "      <td>76.439957</td>\n",
       "      <td>PG</td>\n",
       "    </tr>\n",
       "    <tr>\n",
       "      <th>2017-07-05</th>\n",
       "      <td>76.544515</td>\n",
       "      <td>76.378983</td>\n",
       "      <td>PG</td>\n",
       "    </tr>\n",
       "    <tr>\n",
       "      <th>2017-07-06</th>\n",
       "      <td>76.361552</td>\n",
       "      <td>76.117615</td>\n",
       "      <td>PG</td>\n",
       "    </tr>\n",
       "    <tr>\n",
       "      <th>2017-07-07</th>\n",
       "      <td>76.396406</td>\n",
       "      <td>76.361557</td>\n",
       "      <td>PG</td>\n",
       "    </tr>\n",
       "    <tr>\n",
       "      <th>2017-07-10</th>\n",
       "      <td>76.344119</td>\n",
       "      <td>75.873665</td>\n",
       "      <td>PG</td>\n",
       "    </tr>\n",
       "  </tbody>\n",
       "</table>\n",
       "</div>"
      ],
      "text/plain": [
       "                 Open      Close Ticker\n",
       "Date                                   \n",
       "2017-07-03  76.143748  76.439957     PG\n",
       "2017-07-05  76.544515  76.378983     PG\n",
       "2017-07-06  76.361552  76.117615     PG\n",
       "2017-07-07  76.396406  76.361557     PG\n",
       "2017-07-10  76.344119  75.873665     PG"
      ]
     },
     "execution_count": 102,
     "metadata": {},
     "output_type": "execute_result"
    }
   ],
   "source": [
    "# Create and empty DataFrame for prices\n",
    "df_pg[\"Ticker\"]=\"PG\"\n",
    "df_pg.head()\n",
    "df_pg = df_pg.drop(columns=[\"High\",\"Low\",\"Volume\",\"Dividends\",\"Stock Splits\"])\n",
    "df_pg.head()"
   ]
  },
  {
   "cell_type": "code",
   "execution_count": 103,
   "id": "3a5e820e-20fa-4b34-9061-29befd17c373",
   "metadata": {},
   "outputs": [],
   "source": [
    "df_pg.to_csv('data_pg.csv')"
   ]
  },
  {
   "cell_type": "code",
   "execution_count": null,
   "id": "3d1b8cbe-e9c7-428c-b8d1-c51dd4badbd4",
   "metadata": {},
   "outputs": [],
   "source": []
  },
  {
   "cell_type": "code",
   "execution_count": null,
   "id": "9c6991bb-095d-400d-824b-6027c3237ce5",
   "metadata": {},
   "outputs": [],
   "source": []
  },
  {
   "cell_type": "code",
   "execution_count": null,
   "id": "dc5530fc-7559-4a57-8225-9f03607f05f0",
   "metadata": {},
   "outputs": [],
   "source": [
    "\n",
    "\n"
   ]
  }
 ],
 "metadata": {
  "kernelspec": {
   "display_name": "Python 3 (ipykernel)",
   "language": "python",
   "name": "python3"
  },
  "language_info": {
   "codemirror_mode": {
    "name": "ipython",
    "version": 3
   },
   "file_extension": ".py",
   "mimetype": "text/x-python",
   "name": "python",
   "nbconvert_exporter": "python",
   "pygments_lexer": "ipython3",
   "version": "3.9.12"
  }
 },
 "nbformat": 4,
 "nbformat_minor": 5
}
