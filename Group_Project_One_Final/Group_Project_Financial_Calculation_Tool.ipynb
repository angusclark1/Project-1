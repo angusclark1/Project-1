{
 "cells": [
  {
   "cell_type": "code",
   "execution_count": 1,
   "id": "be57a8cf-fa8c-40c7-986b-b1f56dda5875",
   "metadata": {},
   "outputs": [],
   "source": [
    "import os\n",
    "import requests\n",
    "import json\n",
    "import pandas as pd\n",
    "from dotenv import load_dotenv\n",
    "import alpaca_trade_api as tradeapi\n",
    "import yfinance as yf\n",
    "\n",
    "%matplotlib inline"
   ]
  },
  {
   "cell_type": "code",
   "execution_count": 2,
   "id": "c10368e6-f386-4649-b364-44141d5d06b2",
   "metadata": {},
   "outputs": [
    {
     "data": {
      "text/plain": [
       "True"
      ]
     },
     "execution_count": 2,
     "metadata": {},
     "output_type": "execute_result"
    }
   ],
   "source": [
    "load_dotenv()"
   ]
  },
  {
   "cell_type": "code",
   "execution_count": 3,
   "id": "6f3a58bb-b181-43a4-b6e3-67f12c480e2c",
   "metadata": {},
   "outputs": [],
   "source": [
    "# Set Alpaca API key and secret\n",
    "alpaca_api_key = os.getenv(\"ALPACA_API_KEY\")\n",
    "alpaca_secret_key = os.getenv(\"ALPACA_SECRET_KEY\")\n",
    "\n",
    "# Create the Alpaca API object\n",
    "alpaca = tradeapi.REST(\n",
    "    alpaca_api_key,\n",
    "    alpaca_secret_key,\n",
    "    api_version=\"v2\")"
   ]
  },
  {
   "cell_type": "code",
   "execution_count": 4,
   "id": "4712f452-059b-44a9-b088-de2feff37ea2",
   "metadata": {},
   "outputs": [
    {
     "data": {
      "text/html": [
       "<div>\n",
       "<style scoped>\n",
       "    .dataframe tbody tr th:only-of-type {\n",
       "        vertical-align: middle;\n",
       "    }\n",
       "\n",
       "    .dataframe tbody tr th {\n",
       "        vertical-align: top;\n",
       "    }\n",
       "\n",
       "    .dataframe thead th {\n",
       "        text-align: right;\n",
       "    }\n",
       "</style>\n",
       "<table border=\"1\" class=\"dataframe\">\n",
       "  <thead>\n",
       "    <tr style=\"text-align: right;\">\n",
       "      <th></th>\n",
       "      <th>open</th>\n",
       "      <th>high</th>\n",
       "      <th>low</th>\n",
       "      <th>close</th>\n",
       "      <th>volume</th>\n",
       "      <th>trade_count</th>\n",
       "      <th>vwap</th>\n",
       "      <th>symbol</th>\n",
       "    </tr>\n",
       "    <tr>\n",
       "      <th>timestamp</th>\n",
       "      <th></th>\n",
       "      <th></th>\n",
       "      <th></th>\n",
       "      <th></th>\n",
       "      <th></th>\n",
       "      <th></th>\n",
       "      <th></th>\n",
       "      <th></th>\n",
       "    </tr>\n",
       "  </thead>\n",
       "  <tbody>\n",
       "    <tr>\n",
       "      <th>2022-07-05 04:00:00+00:00</th>\n",
       "      <td>137.70</td>\n",
       "      <td>141.61</td>\n",
       "      <td>136.9300</td>\n",
       "      <td>141.56</td>\n",
       "      <td>73438182</td>\n",
       "      <td>601965</td>\n",
       "      <td>139.766834</td>\n",
       "      <td>AAPL</td>\n",
       "    </tr>\n",
       "    <tr>\n",
       "      <th>2022-07-05 04:00:00+00:00</th>\n",
       "      <td>70.60</td>\n",
       "      <td>72.13</td>\n",
       "      <td>70.6000</td>\n",
       "      <td>72.06</td>\n",
       "      <td>769150</td>\n",
       "      <td>13134</td>\n",
       "      <td>71.323114</td>\n",
       "      <td>LIT</td>\n",
       "    </tr>\n",
       "    <tr>\n",
       "      <th>2022-07-05 04:00:00+00:00</th>\n",
       "      <td>668.13</td>\n",
       "      <td>699.44</td>\n",
       "      <td>648.5001</td>\n",
       "      <td>699.20</td>\n",
       "      <td>28260137</td>\n",
       "      <td>783242</td>\n",
       "      <td>674.624912</td>\n",
       "      <td>TSLA</td>\n",
       "    </tr>\n",
       "  </tbody>\n",
       "</table>\n",
       "</div>"
      ],
      "text/plain": [
       "                             open    high       low   close    volume  \\\n",
       "timestamp                                                               \n",
       "2022-07-05 04:00:00+00:00  137.70  141.61  136.9300  141.56  73438182   \n",
       "2022-07-05 04:00:00+00:00   70.60   72.13   70.6000   72.06    769150   \n",
       "2022-07-05 04:00:00+00:00  668.13  699.44  648.5001  699.20  28260137   \n",
       "\n",
       "                           trade_count        vwap symbol  \n",
       "timestamp                                                  \n",
       "2022-07-05 04:00:00+00:00       601965  139.766834   AAPL  \n",
       "2022-07-05 04:00:00+00:00        13134   71.323114    LIT  \n",
       "2022-07-05 04:00:00+00:00       783242  674.624912   TSLA  "
      ]
     },
     "execution_count": 4,
     "metadata": {},
     "output_type": "execute_result"
    }
   ],
   "source": [
    "# Format current date as ISO format\n",
    "today = pd.Timestamp(\"2022-07-05\", tz=\"America/New_York\").isoformat()\n",
    "\n",
    "# Set the tickers\n",
    "new_portfolio_tickers = ['aapl','lit','tsla']\n",
    "old_portfolio_tickers = ['dis','ko','jnj','gld']\n",
    "\n",
    "# Set timeframe to \"1Day\" for Alpaca API\n",
    "timeframe = \"1Day\"\n",
    "\n",
    "# Get current closing prices\n",
    "df_new_portfolio = alpaca.get_bars(\n",
    "    new_portfolio_tickers,\n",
    "    timeframe,\n",
    "    start = today,\n",
    "    end = today\n",
    ").df\n",
    "\n",
    "df_new_portfolio.head()\n",
    "\n",
    "# Reorganize the DataFrame\n",
    "# Separate ticker data\n",
    "aapl = df_new_portfolio[df_new_portfolio['symbol']=='aapl'].drop('symbol', axis=1)\n",
    "lit = df_new_portfolio[df_new_portfolio['symbol']=='lit'].drop('symbol', axis=1)\n",
    "tsla = df_new_portfolio[df_new_portfolio['symbol']=='tsla'].drop('symbol', axis=1)\n",
    "\n",
    "# Preview DataFrame\n",
    "df_new_portfolio"
   ]
  },
  {
   "cell_type": "code",
   "execution_count": 5,
   "id": "9d7b6959-2981-4eda-a363-6fc7750c54c8",
   "metadata": {},
   "outputs": [
    {
     "name": "stdout",
     "output_type": "stream",
     "text": [
      "Current aapl closing price: $141.56\n",
      "Current lit closing price: $72.06\n",
      "Current tsla closing price: $699.2\n"
     ]
    }
   ],
   "source": [
    "# Pick close prices\n",
    "aapl_close_price = 141.56\n",
    "lit_close_price = 72.06\n",
    "tsla_close_price = 699.20\n",
    "# Print close prices\n",
    "print(f\"Current aapl closing price: ${aapl_close_price}\")\n",
    "print(f\"Current lit closing price: ${lit_close_price}\")\n",
    "print(f\"Current tsla closing price: ${tsla_close_price}\")"
   ]
  },
  {
   "cell_type": "code",
   "execution_count": 6,
   "id": "f92b7d42-1c87-4cec-8162-d2c9a6d583b9",
   "metadata": {},
   "outputs": [],
   "source": [
    "my_aapl = 10\n",
    "my_lit = 10\n",
    "my_tsla = 10"
   ]
  },
  {
   "cell_type": "code",
   "execution_count": 7,
   "id": "637e3c17-98ee-4223-9868-8be3d930cad4",
   "metadata": {},
   "outputs": [
    {
     "name": "stdout",
     "output_type": "stream",
     "text": [
      "The current value of your 10 aapl shares is $2066.78\n",
      "The current value of your 10 lit shares is $1052.08\n",
      "The current value of your 10 tsla shares is $10208.32\n"
     ]
    }
   ],
   "source": [
    "# Compute the current value of shares\n",
    "my_aapl_value = (my_aapl * aapl_close_price)*1.46\n",
    "my_lit_value = (my_lit * lit_close_price)*1.46\n",
    "my_tsla_value = (my_tsla * tsla_close_price)*1.46\n",
    "\n",
    "# Print current value of shares\n",
    "print(f\"The current value of your {my_aapl} aapl shares is ${my_aapl_value:0.2f}\")\n",
    "print(f\"The current value of your {my_lit} lit shares is ${my_lit_value:0.2f}\")\n",
    "print(f\"The current value of your {my_tsla} tsla shares is ${my_tsla_value:0.2f}\")"
   ]
  },
  {
   "cell_type": "code",
   "execution_count": 8,
   "id": "21ea7330-d8a6-46bb-bdb5-e46f64a41f79",
   "metadata": {},
   "outputs": [],
   "source": [
    "# Set current amount of crypto assets\n",
    "my_btc = 1\n",
    "my_eth = 10\n",
    "my_usdt = 10"
   ]
  },
  {
   "cell_type": "code",
   "execution_count": 9,
   "id": "f7484385-97b6-455e-a273-ac1db19d85bf",
   "metadata": {},
   "outputs": [],
   "source": [
    "# Crypto API URLs\n",
    "btc_url = \"https://api.alternative.me/v2/ticker/Bitcoin/?convert=USD\"\n",
    "eth_url = \"https://api.alternative.me/v2/ticker/Ethereum/?convert=USD\"\n",
    "usdt_url = \"https://api.alternative.me/v2/ticker/Tether/?convert=USD\""
   ]
  },
  {
   "cell_type": "code",
   "execution_count": 10,
   "id": "118e2ddf-a98a-4b64-aa01-d18d65353016",
   "metadata": {},
   "outputs": [
    {
     "name": "stdout",
     "output_type": "stream",
     "text": [
      "The current value of your 1 BTC is $29916.86\n",
      "The current value of your 10 ETH is $17282.60\n",
      "The current value of your 10 USDT is $14.60\n"
     ]
    }
   ],
   "source": [
    "# Fetch current BTC price\n",
    "btc = requests.get(btc_url).json()\n",
    "(json.dumps(btc, indent=4))\n",
    "\n",
    "# Fetch current ETH price\n",
    "eth = requests.get(eth_url).json()\n",
    "(json.dumps(eth, indent=4))\n",
    "\n",
    "# Fetch current USDT price\n",
    "usdt = requests.get(usdt_url).json()\n",
    "(json.dumps(usdt, indent=4))\n",
    "\n",
    "\n",
    "# Compute current value of my crpto\n",
    "my_btc_value = (my_btc * (btc['data']['1']['quotes'][\"USD\"]['price']))*1.46\n",
    "my_eth_value = (my_eth * (eth['data']['1027']['quotes'][\"USD\"]['price']))*1.46\n",
    "my_usdt_value = (my_usdt * (usdt['data']['825']['quotes'][\"USD\"]['price']))*1.46\n",
    "\n",
    "# Print current crypto wallet balance\n",
    "print(f\"The current value of your {my_btc} BTC is ${my_btc_value:0.2f}\")\n",
    "print(f\"The current value of your {my_eth} ETH is ${my_eth_value:0.2f}\")\n",
    "print(f\"The current value of your {my_usdt} USDT is ${my_usdt_value:0.2f}\")"
   ]
  },
  {
   "cell_type": "code",
   "execution_count": 11,
   "id": "a99462e6-a110-4034-a333-1f166d61922e",
   "metadata": {},
   "outputs": [
    {
     "name": "stdout",
     "output_type": "stream",
     "text": [
      "The current value of your new portfolio is $60541.24\n"
     ]
    }
   ],
   "source": [
    "#Assess Value of the New Portfolio\n",
    "print(f\"The current value of your new portfolio is ${my_btc_value+my_eth_value+my_usdt_value+my_aapl_value+my_lit_value+my_tsla_value:0.2f}\")"
   ]
  },
  {
   "cell_type": "code",
   "execution_count": 12,
   "id": "f78ffaec-3cec-4bf4-a1ee-c56befc6a6d8",
   "metadata": {},
   "outputs": [
    {
     "data": {
      "text/html": [
       "<div>\n",
       "<style scoped>\n",
       "    .dataframe tbody tr th:only-of-type {\n",
       "        vertical-align: middle;\n",
       "    }\n",
       "\n",
       "    .dataframe tbody tr th {\n",
       "        vertical-align: top;\n",
       "    }\n",
       "\n",
       "    .dataframe thead th {\n",
       "        text-align: right;\n",
       "    }\n",
       "</style>\n",
       "<table border=\"1\" class=\"dataframe\">\n",
       "  <thead>\n",
       "    <tr style=\"text-align: right;\">\n",
       "      <th></th>\n",
       "      <th>open</th>\n",
       "      <th>high</th>\n",
       "      <th>low</th>\n",
       "      <th>close</th>\n",
       "      <th>volume</th>\n",
       "      <th>trade_count</th>\n",
       "      <th>vwap</th>\n",
       "      <th>symbol</th>\n",
       "    </tr>\n",
       "    <tr>\n",
       "      <th>timestamp</th>\n",
       "      <th></th>\n",
       "      <th></th>\n",
       "      <th></th>\n",
       "      <th></th>\n",
       "      <th></th>\n",
       "      <th></th>\n",
       "      <th></th>\n",
       "      <th></th>\n",
       "    </tr>\n",
       "  </thead>\n",
       "  <tbody>\n",
       "    <tr>\n",
       "      <th>2022-07-05 04:00:00+00:00</th>\n",
       "      <td>93.98</td>\n",
       "      <td>97.230</td>\n",
       "      <td>92.310</td>\n",
       "      <td>97.18</td>\n",
       "      <td>10633946</td>\n",
       "      <td>128222</td>\n",
       "      <td>95.360958</td>\n",
       "      <td>DIS</td>\n",
       "    </tr>\n",
       "    <tr>\n",
       "      <th>2022-07-05 04:00:00+00:00</th>\n",
       "      <td>167.18</td>\n",
       "      <td>167.330</td>\n",
       "      <td>164.410</td>\n",
       "      <td>164.75</td>\n",
       "      <td>13445951</td>\n",
       "      <td>93026</td>\n",
       "      <td>165.225682</td>\n",
       "      <td>GLD</td>\n",
       "    </tr>\n",
       "    <tr>\n",
       "      <th>2022-07-05 04:00:00+00:00</th>\n",
       "      <td>178.83</td>\n",
       "      <td>179.125</td>\n",
       "      <td>174.610</td>\n",
       "      <td>178.14</td>\n",
       "      <td>5651457</td>\n",
       "      <td>80245</td>\n",
       "      <td>176.938228</td>\n",
       "      <td>JNJ</td>\n",
       "    </tr>\n",
       "    <tr>\n",
       "      <th>2022-07-05 04:00:00+00:00</th>\n",
       "      <td>64.18</td>\n",
       "      <td>64.180</td>\n",
       "      <td>62.415</td>\n",
       "      <td>63.28</td>\n",
       "      <td>16164054</td>\n",
       "      <td>139762</td>\n",
       "      <td>63.249161</td>\n",
       "      <td>KO</td>\n",
       "    </tr>\n",
       "  </tbody>\n",
       "</table>\n",
       "</div>"
      ],
      "text/plain": [
       "                             open     high      low   close    volume  \\\n",
       "timestamp                                                               \n",
       "2022-07-05 04:00:00+00:00   93.98   97.230   92.310   97.18  10633946   \n",
       "2022-07-05 04:00:00+00:00  167.18  167.330  164.410  164.75  13445951   \n",
       "2022-07-05 04:00:00+00:00  178.83  179.125  174.610  178.14   5651457   \n",
       "2022-07-05 04:00:00+00:00   64.18   64.180   62.415   63.28  16164054   \n",
       "\n",
       "                           trade_count        vwap symbol  \n",
       "timestamp                                                  \n",
       "2022-07-05 04:00:00+00:00       128222   95.360958    DIS  \n",
       "2022-07-05 04:00:00+00:00        93026  165.225682    GLD  \n",
       "2022-07-05 04:00:00+00:00        80245  176.938228    JNJ  \n",
       "2022-07-05 04:00:00+00:00       139762   63.249161     KO  "
      ]
     },
     "execution_count": 12,
     "metadata": {},
     "output_type": "execute_result"
    }
   ],
   "source": [
    "# Set timeframe to \"1Day\" for Alpaca API\n",
    "timeframe = \"1Day\"\n",
    "\n",
    "# Get current closing prices\n",
    "df_old_portfolio = alpaca.get_bars(\n",
    "    old_portfolio_tickers,\n",
    "    timeframe,\n",
    "    start = today,\n",
    "    end = today\n",
    ").df\n",
    "\n",
    "df_old_portfolio.head()\n",
    "\n",
    "# Reorganize the DataFrame\n",
    "# Separate ticker data\n",
    "dis = df_old_portfolio[df_old_portfolio['symbol']=='dis'].drop('symbol', axis=1)\n",
    "gld = df_old_portfolio[df_old_portfolio['symbol']=='gld'].drop('symbol', axis=1)\n",
    "jnj = df_old_portfolio[df_old_portfolio['symbol']=='jnj'].drop('symbol', axis=1)\n",
    "ko = df_old_portfolio[df_old_portfolio['symbol']=='ko'].drop('symbol', axis=1)\n",
    "\n",
    "# Preview DataFrame\n",
    "df_old_portfolio"
   ]
  },
  {
   "cell_type": "code",
   "execution_count": 13,
   "id": "eadfc2a9-fac8-4d2e-a968-b35caa38c1f9",
   "metadata": {},
   "outputs": [
    {
     "name": "stdout",
     "output_type": "stream",
     "text": [
      "Current dis closing price: $97.18\n",
      "Current gld closing price: $164.75\n",
      "Current jnj closing price: $178.14\n",
      "Current ko closing price: $63.28\n"
     ]
    }
   ],
   "source": [
    "# Pick close prices\n",
    "dis_close_price = 97.18\n",
    "gld_close_price = 164.75\n",
    "jnj_close_price = 178.14\n",
    "ko_close_price = 63.28\n",
    "# Print close prices\n",
    "print(f\"Current dis closing price: ${dis_close_price}\")\n",
    "print(f\"Current gld closing price: ${gld_close_price}\")\n",
    "print(f\"Current jnj closing price: ${jnj_close_price}\")\n",
    "print(f\"Current ko closing price: ${ko_close_price}\")"
   ]
  },
  {
   "cell_type": "code",
   "execution_count": 14,
   "id": "0fde2143-c213-4725-bea8-9052c20aefa5",
   "metadata": {},
   "outputs": [],
   "source": [
    "my_dis = 10\n",
    "my_gld = 10\n",
    "my_jnj = 10\n",
    "my_ko = 10"
   ]
  },
  {
   "cell_type": "code",
   "execution_count": 15,
   "id": "53e2b503-9a12-496e-ab1a-4111b2e553eb",
   "metadata": {},
   "outputs": [
    {
     "name": "stdout",
     "output_type": "stream",
     "text": [
      "The current value of your 10 dis shares is $1418.83\n",
      "The current value of your 10 gld shares is $2405.35\n",
      "The current value of your 10 jnj shares is $2600.84\n",
      "The current value of your 10 ko shares is $923.89\n"
     ]
    }
   ],
   "source": [
    "# Compute the current value of shares\n",
    "my_dis_value = (my_dis * dis_close_price)*1.46\n",
    "my_gld_value = (my_gld * gld_close_price)*1.46\n",
    "my_jnj_value = (my_jnj * jnj_close_price)*1.46\n",
    "my_ko_value = (my_ko * ko_close_price)*1.46\n",
    "\n",
    "# Print current value of shares\n",
    "print(f\"The current value of your {my_dis} dis shares is ${my_dis_value:0.2f}\")\n",
    "print(f\"The current value of your {my_gld} gld shares is ${my_gld_value:0.2f}\")\n",
    "print(f\"The current value of your {my_jnj} jnj shares is ${my_jnj_value:0.2f}\")\n",
    "print(f\"The current value of your {my_ko} ko shares is ${my_ko_value:0.2f}\")"
   ]
  },
  {
   "cell_type": "code",
   "execution_count": 16,
   "id": "a5950858-55c8-4067-a9fe-2413bcc538cc",
   "metadata": {},
   "outputs": [
    {
     "name": "stdout",
     "output_type": "stream",
     "text": [
      "[*********************100%***********************]  2 of 2 completed\n"
     ]
    },
    {
     "data": {
      "text/html": [
       "<div>\n",
       "<style scoped>\n",
       "    .dataframe tbody tr th:only-of-type {\n",
       "        vertical-align: middle;\n",
       "    }\n",
       "\n",
       "    .dataframe tbody tr th {\n",
       "        vertical-align: top;\n",
       "    }\n",
       "\n",
       "    .dataframe thead th {\n",
       "        text-align: right;\n",
       "    }\n",
       "</style>\n",
       "<table border=\"1\" class=\"dataframe\">\n",
       "  <thead>\n",
       "    <tr style=\"text-align: right;\">\n",
       "      <th></th>\n",
       "      <th>BRK-B</th>\n",
       "      <th>CBA.AX</th>\n",
       "    </tr>\n",
       "    <tr>\n",
       "      <th>Date</th>\n",
       "      <th></th>\n",
       "      <th></th>\n",
       "    </tr>\n",
       "  </thead>\n",
       "  <tbody>\n",
       "    <tr>\n",
       "      <th>2022-07-05</th>\n",
       "      <td>275.690002</td>\n",
       "      <td>91.230003</td>\n",
       "    </tr>\n",
       "    <tr>\n",
       "      <th>2022-07-06</th>\n",
       "      <td>275.649994</td>\n",
       "      <td>92.000000</td>\n",
       "    </tr>\n",
       "    <tr>\n",
       "      <th>2022-07-07</th>\n",
       "      <td>NaN</td>\n",
       "      <td>93.080002</td>\n",
       "    </tr>\n",
       "  </tbody>\n",
       "</table>\n",
       "</div>"
      ],
      "text/plain": [
       "                 BRK-B     CBA.AX\n",
       "Date                             \n",
       "2022-07-05  275.690002  91.230003\n",
       "2022-07-06  275.649994  92.000000\n",
       "2022-07-07         NaN  93.080002"
      ]
     },
     "execution_count": 16,
     "metadata": {},
     "output_type": "execute_result"
    }
   ],
   "source": [
    "cba_brk_ticker = ['cba.ax','brk-b']\n",
    "cba_brk_stock_data = yf.download(cba_brk_ticker, start = \"2022-07-05\",ed = \"2022-07-05\")\n",
    "cba_brk_stock_data['Close']"
   ]
  },
  {
   "cell_type": "code",
   "execution_count": 19,
   "id": "28da8bc8-5fa1-4364-b123-42c31f36739e",
   "metadata": {},
   "outputs": [
    {
     "name": "stdout",
     "output_type": "stream",
     "text": [
      "Current brk closing price: $275.690002\n",
      "Current cba closing price: $91.230003\n"
     ]
    }
   ],
   "source": [
    "# Pick close prices\n",
    "brk_close_price = 275.690002\n",
    "cba_close_price = 91.230003\n",
    "\n",
    "# Print close prices\n",
    "print(f\"Current brk closing price: ${brk_close_price}\")\n",
    "print(f\"Current cba closing price: ${cba_close_price}\")\n"
   ]
  },
  {
   "cell_type": "code",
   "execution_count": 20,
   "id": "60b32676-68f6-4036-a605-c8cd0eea7d46",
   "metadata": {},
   "outputs": [],
   "source": [
    "my_brk = 10\n",
    "my_cba = 10"
   ]
  },
  {
   "cell_type": "code",
   "execution_count": 22,
   "id": "e2b47cc6-6f10-4e59-8c85-be8207e03583",
   "metadata": {},
   "outputs": [
    {
     "name": "stdout",
     "output_type": "stream",
     "text": [
      "The current value of your 10 brk shares is $4025.07\n",
      "The current value of your 10 cba shares is $912.30\n"
     ]
    }
   ],
   "source": [
    "# Compute the current value of shares\n",
    "my_brk_value = (my_brk * brk_close_price)*1.46\n",
    "my_cba_value = (my_cba * cba_close_price)\n",
    "\n",
    "# Print current value of shares\n",
    "print(f\"The current value of your {my_brk} brk shares is ${my_brk_value:0.2f}\")\n",
    "print(f\"The current value of your {my_cba} cba shares is ${my_cba_value:0.2f}\")"
   ]
  },
  {
   "cell_type": "code",
   "execution_count": 23,
   "id": "6f398148-c19d-412d-ac02-4c873e84a428",
   "metadata": {},
   "outputs": [
    {
     "name": "stdout",
     "output_type": "stream",
     "text": [
      "The current value of your old portfolio is $12286.28\n"
     ]
    }
   ],
   "source": [
    "#Assess Value of the New Portfolio\n",
    "print(f\"The current value of your old portfolio is ${my_dis_value+my_gld_value+my_jnj_value+my_ko_value+my_brk_value+my_cba_value:0.2f}\")"
   ]
  },
  {
   "cell_type": "code",
   "execution_count": null,
   "id": "8d082c21-b257-4fdc-9c91-1785f54addd4",
   "metadata": {},
   "outputs": [],
   "source": []
  }
 ],
 "metadata": {
  "kernelspec": {
   "display_name": "Python 3 (ipykernel)",
   "language": "python",
   "name": "python3"
  },
  "language_info": {
   "codemirror_mode": {
    "name": "ipython",
    "version": 3
   },
   "file_extension": ".py",
   "mimetype": "text/x-python",
   "name": "python",
   "nbconvert_exporter": "python",
   "pygments_lexer": "ipython3",
   "version": "3.7.11"
  }
 },
 "nbformat": 4,
 "nbformat_minor": 5
}
